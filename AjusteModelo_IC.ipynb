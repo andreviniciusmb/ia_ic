{
  "nbformat": 4,
  "nbformat_minor": 0,
  "metadata": {
    "colab": {
      "name": "AjusteModelo_IC.ipynb",
      "provenance": [],
      "collapsed_sections": [],
      "authorship_tag": "ABX9TyMPncNBkb80yZXqsSLQ5gTn",
      "include_colab_link": true
    },
    "kernelspec": {
      "name": "python3",
      "display_name": "Python 3"
    },
    "language_info": {
      "name": "python"
    }
  },
  "cells": [
    {
      "cell_type": "markdown",
      "metadata": {
        "id": "view-in-github",
        "colab_type": "text"
      },
      "source": [
        "<a href=\"https://colab.research.google.com/github/andreviniciusmb/ia_ic/blob/main/AjusteModelo_IC.ipynb\" target=\"_parent\"><img src=\"https://colab.research.google.com/assets/colab-badge.svg\" alt=\"Open In Colab\"/></a>"
      ]
    },
    {
      "cell_type": "markdown",
      "metadata": {
        "id": "lon5oIeVfp5-"
      },
      "source": [
        "# Exercício 3\n",
        "Para cada característica individualmente calcule o R2, mostre o histograma e o gráfico de resíduos, e calcule o teste de normalidade. Compare o resultado com a característica \"age\".\n",
        "Adicionalmente, também mostre o histograma e o gráfico de resíduos, para o processo com as duas características (regressão com duas variáveis) do exercício anterior."
      ]
    },
    {
      "cell_type": "markdown",
      "metadata": {
        "id": "Gf2w2oz_fy3D"
      },
      "source": [
        "## Importação das bibliotecas"
      ]
    },
    {
      "cell_type": "code",
      "metadata": {
        "colab": {
          "base_uri": "https://localhost:8080/"
        },
        "id": "mOS6oqnkXZIq",
        "outputId": "e90982e3-64d7-4ffa-8481-9995097629ec"
      },
      "source": [
        "import numpy as np\n",
        "import pandas as pd\n",
        "import matplotlib.pyplot as plt\n",
        "\n",
        "# Modelagem\n",
        "from sklearn import linear_model\n",
        "from sklearn.datasets import load_diabetes\n",
        "from sklearn.metrics import r2_score\n",
        "\n",
        "## p-value\n",
        "from statsmodels.stats.diagnostic import normal_ad"
      ],
      "execution_count": 1,
      "outputs": [
        {
          "output_type": "stream",
          "name": "stderr",
          "text": [
            "/usr/local/lib/python3.7/dist-packages/statsmodels/tools/_testing.py:19: FutureWarning: pandas.util.testing is deprecated. Use the functions in the public API at pandas.testing instead.\n",
            "  import pandas.util.testing as tm\n"
          ]
        }
      ]
    },
    {
      "cell_type": "markdown",
      "metadata": {
        "id": "D9N4rIJlf3mq"
      },
      "source": [
        "## Carregamento do dataset"
      ]
    },
    {
      "cell_type": "code",
      "metadata": {
        "colab": {
          "base_uri": "https://localhost:8080/",
          "height": 205
        },
        "id": "nejlt3f7Y3_e",
        "outputId": "db23c911-3de2-499a-9056-d87af2ba7b90"
      },
      "source": [
        "diabetes = load_diabetes()\n",
        "\n",
        "tabela = pd.DataFrame(diabetes.data)\n",
        "tabela.columns = diabetes.feature_names\n",
        "tabela['y'] = diabetes.target\n",
        "tabela.head()"
      ],
      "execution_count": 14,
      "outputs": [
        {
          "output_type": "execute_result",
          "data": {
            "text/html": [
              "<div>\n",
              "<style scoped>\n",
              "    .dataframe tbody tr th:only-of-type {\n",
              "        vertical-align: middle;\n",
              "    }\n",
              "\n",
              "    .dataframe tbody tr th {\n",
              "        vertical-align: top;\n",
              "    }\n",
              "\n",
              "    .dataframe thead th {\n",
              "        text-align: right;\n",
              "    }\n",
              "</style>\n",
              "<table border=\"1\" class=\"dataframe\">\n",
              "  <thead>\n",
              "    <tr style=\"text-align: right;\">\n",
              "      <th></th>\n",
              "      <th>age</th>\n",
              "      <th>sex</th>\n",
              "      <th>bmi</th>\n",
              "      <th>bp</th>\n",
              "      <th>s1</th>\n",
              "      <th>s2</th>\n",
              "      <th>s3</th>\n",
              "      <th>s4</th>\n",
              "      <th>s5</th>\n",
              "      <th>s6</th>\n",
              "      <th>y</th>\n",
              "    </tr>\n",
              "  </thead>\n",
              "  <tbody>\n",
              "    <tr>\n",
              "      <th>0</th>\n",
              "      <td>0.038076</td>\n",
              "      <td>0.050680</td>\n",
              "      <td>0.061696</td>\n",
              "      <td>0.021872</td>\n",
              "      <td>-0.044223</td>\n",
              "      <td>-0.034821</td>\n",
              "      <td>-0.043401</td>\n",
              "      <td>-0.002592</td>\n",
              "      <td>0.019908</td>\n",
              "      <td>-0.017646</td>\n",
              "      <td>151.0</td>\n",
              "    </tr>\n",
              "    <tr>\n",
              "      <th>1</th>\n",
              "      <td>-0.001882</td>\n",
              "      <td>-0.044642</td>\n",
              "      <td>-0.051474</td>\n",
              "      <td>-0.026328</td>\n",
              "      <td>-0.008449</td>\n",
              "      <td>-0.019163</td>\n",
              "      <td>0.074412</td>\n",
              "      <td>-0.039493</td>\n",
              "      <td>-0.068330</td>\n",
              "      <td>-0.092204</td>\n",
              "      <td>75.0</td>\n",
              "    </tr>\n",
              "    <tr>\n",
              "      <th>2</th>\n",
              "      <td>0.085299</td>\n",
              "      <td>0.050680</td>\n",
              "      <td>0.044451</td>\n",
              "      <td>-0.005671</td>\n",
              "      <td>-0.045599</td>\n",
              "      <td>-0.034194</td>\n",
              "      <td>-0.032356</td>\n",
              "      <td>-0.002592</td>\n",
              "      <td>0.002864</td>\n",
              "      <td>-0.025930</td>\n",
              "      <td>141.0</td>\n",
              "    </tr>\n",
              "    <tr>\n",
              "      <th>3</th>\n",
              "      <td>-0.089063</td>\n",
              "      <td>-0.044642</td>\n",
              "      <td>-0.011595</td>\n",
              "      <td>-0.036656</td>\n",
              "      <td>0.012191</td>\n",
              "      <td>0.024991</td>\n",
              "      <td>-0.036038</td>\n",
              "      <td>0.034309</td>\n",
              "      <td>0.022692</td>\n",
              "      <td>-0.009362</td>\n",
              "      <td>206.0</td>\n",
              "    </tr>\n",
              "    <tr>\n",
              "      <th>4</th>\n",
              "      <td>0.005383</td>\n",
              "      <td>-0.044642</td>\n",
              "      <td>-0.036385</td>\n",
              "      <td>0.021872</td>\n",
              "      <td>0.003935</td>\n",
              "      <td>0.015596</td>\n",
              "      <td>0.008142</td>\n",
              "      <td>-0.002592</td>\n",
              "      <td>-0.031991</td>\n",
              "      <td>-0.046641</td>\n",
              "      <td>135.0</td>\n",
              "    </tr>\n",
              "  </tbody>\n",
              "</table>\n",
              "</div>"
            ],
            "text/plain": [
              "        age       sex       bmi        bp  ...        s4        s5        s6      y\n",
              "0  0.038076  0.050680  0.061696  0.021872  ... -0.002592  0.019908 -0.017646  151.0\n",
              "1 -0.001882 -0.044642 -0.051474 -0.026328  ... -0.039493 -0.068330 -0.092204   75.0\n",
              "2  0.085299  0.050680  0.044451 -0.005671  ... -0.002592  0.002864 -0.025930  141.0\n",
              "3 -0.089063 -0.044642 -0.011595 -0.036656  ...  0.034309  0.022692 -0.009362  206.0\n",
              "4  0.005383 -0.044642 -0.036385  0.021872  ... -0.002592 -0.031991 -0.046641  135.0\n",
              "\n",
              "[5 rows x 11 columns]"
            ]
          },
          "metadata": {},
          "execution_count": 14
        }
      ]
    },
    {
      "cell_type": "markdown",
      "metadata": {
        "id": "boE6VrmSf8PY"
      },
      "source": [
        "## Modelagem e Ajuste"
      ]
    },
    {
      "cell_type": "code",
      "metadata": {
        "colab": {
          "base_uri": "https://localhost:8080/",
          "height": 335
        },
        "id": "7IZGcBP1b_9S",
        "outputId": "d3961c52-7f06-474b-88c8-43cddbd0c73d"
      },
      "source": [
        "y = tabela['y']\n",
        "y_train = y[:-20]\n",
        "y_test = y[-20:].array.to_numpy().reshape(-1,1)\n",
        "\n",
        "print('Coluna: Age', )\n",
        "X = tabela['age']\n",
        "X_train = X[:-20].array.to_numpy().reshape(-1,1)\n",
        "X_test = X[-20:].array.to_numpy().reshape(-1,1)\n",
        "\n",
        "modelo = linear_model.LinearRegression()\n",
        "\n",
        "modelo.fit(X_train, y_train)\n",
        "predicao = modelo.predict(X_test)\n",
        "\n",
        "# Calculando o r2\n",
        "r2score = r2_score(y_test, predicao)\n",
        "print('R2 Score: {:.2f}'.format(r2score))\n",
        "\n",
        "# Histogramas dos resíduos\n",
        "residuos = y_test - predicao.reshape(-1,1)\n",
        "\n",
        "plt.hist(residuos)\n",
        "plt.title('Histograma dos resíduos da regressão')\n",
        "plt.show()\n",
        "\n",
        "# Calculando o p-valor e fazendo o teste de normalidade\n",
        "p_value = normal_ad(residuos)[1]\n",
        "if p_value < 0.05:A\n",
        "  print('Residuos não são normalmente distribuídos')\n",
        "else:\n",
        "  print('Residuos são normalmente distribuídos')"
      ],
      "execution_count": 15,
      "outputs": [
        {
          "output_type": "stream",
          "name": "stdout",
          "text": [
            "Coluna: Age\n",
            "R2 Score: -0.13\n"
          ]
        },
        {
          "output_type": "display_data",
          "data": {
            "image/png": "[encoded data removed]",
            "text/plain": [
              "<Figure size 432x288 with 1 Axes>"
            ]
          },
          "metadata": {
            "needs_background": "light"
          }
        },
        {
          "output_type": "stream",
          "name": "stdout",
          "text": [
            "Residuos não são normalmente distribuídos\n"
          ]
        }
      ]
    },
    {
      "cell_type": "markdown",
      "metadata": {
        "id": "t5y3__p6cpMJ"
      },
      "source": [
        "Olhando o R2 score, histograma dos resíduos e o teste de normalidade para variável."
      ]
    },
    {
      "cell_type": "code",
      "metadata": {
        "colab": {
          "base_uri": "https://localhost:8080/",
          "height": 1000
        },
        "id": "Np9A-IulZK5q",
        "outputId": "0be1d800-8d0f-451a-b9b8-afdc9bfec708"
      },
      "source": [
        "cols = tabela.drop(['age','y'],axis=1).columns\n",
        "y = tabela['y']\n",
        "y_train = y[:-20]\n",
        "y_test = y[-20:].array.to_numpy().reshape(-1,1)\n",
        "\n",
        "for coluna in cols:\n",
        "  print('Coluna: ', coluna)\n",
        "  X = tabela[coluna]\n",
        "  X_train = X[:-20].array.to_numpy().reshape(-1,1)\n",
        "  X_test = X[-20:].array.to_numpy().reshape(-1,1)\n",
        "\n",
        "  modelo = linear_model.LinearRegression()\n",
        "\n",
        "  modelo.fit(X_train, y_train)\n",
        "  predicao = modelo.predict(X_test)\n",
        "\n",
        "  # Calculando o r2\n",
        "  r2score = r2_score(y_test, predicao)\n",
        "  print('R2 Score: {:.2f}'.format(r2score))\n",
        "\n",
        "  # Histogramas dos resíduos\n",
        "  residuos = y_test - predicao.reshape(-1,1)\n",
        "\n",
        "  plt.hist(residuos)\n",
        "  plt.title('Histograma dos resíduos da regressão')\n",
        "  plt.show()\n",
        "\n",
        "  # Calculando o p-valor e fazendo o teste de normalidade\n",
        "  p_value = normal_ad(residuos)[1]\n",
        "  if p_value < 0.05:\n",
        "    print('Residuos não são normalmente distribuídos\\n')\n",
        "  else:\n",
        "    print('Residuos são normalmente distribuídos\\n')"
      ],
      "execution_count": 11,
      "outputs": [
        {
          "output_type": "stream",
          "name": "stdout",
          "text": [
            "Coluna:  sex\n",
            "R2 Score: -0.14\n"
          ]
        },
        {
          "output_type": "display_data",
          "data": {
            "image/png": "[encoded data removed]",
            "text/plain": [
              "<Figure size 432x288 with 1 Axes>"
            ]
          },
          "metadata": {
            "needs_background": "light"
          }
        },
        {
          "output_type": "stream",
          "name": "stdout",
          "text": [
            "Residuos são normalmente distribuídos\n",
            "\n",
            "Coluna:  bmi\n",
            "R2 Score: 0.47\n"
          ]
        },
        {
          "output_type": "display_data",
          "data": {
            "image/png": "[encoded data removed]",
            "text/plain": [
              "<Figure size 432x288 with 1 Axes>"
            ]
          },
          "metadata": {
            "needs_background": "light"
          }
        },
        {
          "output_type": "stream",
          "name": "stdout",
          "text": [
            "Residuos são normalmente distribuídos\n",
            "\n",
            "Coluna:  bp\n",
            "R2 Score: 0.16\n"
          ]
        },
        {
          "output_type": "display_data",
          "data": {
            "image/png": "[encoded data removed]",
            "text/plain": [
              "<Figure size 432x288 with 1 Axes>"
            ]
          },
          "metadata": {
            "needs_background": "light"
          }
        },
        {
          "output_type": "stream",
          "name": "stdout",
          "text": [
            "Residuos são normalmente distribuídos\n",
            "\n",
            "Coluna:  s1\n",
            "R2 Score: -0.16\n"
          ]
        },
        {
          "output_type": "display_data",
          "data": {
            "image/png": "[encoded data removed]",
            "text/plain": [
              "<Figure size 432x288 with 1 Axes>"
            ]
          },
          "metadata": {
            "needs_background": "light"
          }
        },
        {
          "output_type": "stream",
          "name": "stdout",
          "text": [
            "Residuos são normalmente distribuídos\n",
            "\n",
            "Coluna:  s2\n",
            "R2 Score: -0.15\n"
          ]
        },
        {
          "output_type": "display_data",
          "data": {
            "image/png": "[encoded data removed]",
            "text/plain": [
              "<Figure size 432x288 with 1 Axes>"
            ]
          },
          "metadata": {
            "needs_background": "light"
          }
        },
        {
          "output_type": "stream",
          "name": "stdout",
          "text": [
            "Residuos não são normalmente distribuídos\n",
            "\n",
            "Coluna:  s3\n",
            "R2 Score: 0.06\n"
          ]
        },
        {
          "output_type": "display_data",
          "data": {
            "image/png": "[encoded data removed]",
            "text/plain": [
              "<Figure size 432x288 with 1 Axes>"
            ]
          },
          "metadata": {
            "needs_background": "light"
          }
        },
        {
          "output_type": "stream",
          "name": "stdout",
          "text": [
            "Residuos são normalmente distribuídos\n",
            "\n",
            "Coluna:  s4\n",
            "R2 Score: -0.00\n"
          ]
        },
        {
          "output_type": "display_data",
          "data": {
            "image/png": "[encoded data removed]",
            "text/plain": [
              "<Figure size 432x288 with 1 Axes>"
            ]
          },
          "metadata": {
            "needs_background": "light"
          }
        },
        {
          "output_type": "stream",
          "name": "stdout",
          "text": [
            "Residuos são normalmente distribuídos\n",
            "\n",
            "Coluna:  s5\n",
            "R2 Score: 0.39\n"
          ]
        },
        {
          "output_type": "display_data",
          "data": {
            "image/png": "[encoded data removed]",
            "text/plain": [
              "<Figure size 432x288 with 1 Axes>"
            ]
          },
          "metadata": {
            "needs_background": "light"
          }
        },
        {
          "output_type": "stream",
          "name": "stdout",
          "text": [
            "Residuos são normalmente distribuídos\n",
            "\n",
            "Coluna:  s6\n",
            "R2 Score: -0.09\n"
          ]
        },
        {
          "output_type": "display_data",
          "data": {
            "image/png": "[encoded data removed]",
            "text/plain": [
              "<Figure size 432x288 with 1 Axes>"
            ]
          },
          "metadata": {
            "needs_background": "light"
          }
        },
        {
          "output_type": "stream",
          "name": "stdout",
          "text": [
            "Residuos não são normalmente distribuídos\n",
            "\n"
          ]
        }
      ]
    },
    {
      "cell_type": "markdown",
      "metadata": {
        "id": "10GSfzEuczMS"
      },
      "source": [
        "Verificando o R2 score, gráfico de resíduos e teste de normalidade para as variáveis BMI e S4 combinadas de acordo com o exercício anterior."
      ]
    },
    {
      "cell_type": "code",
      "metadata": {
        "colab": {
          "base_uri": "https://localhost:8080/",
          "height": 335
        },
        "id": "i3xVJ6ZzZEtr",
        "outputId": "27e2fc73-904e-4e04-cac1-574acbd5a53c"
      },
      "source": [
        "y = tabela['y']\n",
        "y_train = y[:-20]\n",
        "y_test = y[-20:].array.to_numpy().reshape(-1,1)\n",
        "\n",
        "print('Colunas: BMI e S4')\n",
        "X = tabela[['bmi','s4']]\n",
        "X_train = X[:-20]\n",
        "X_test = X[-20:]\n",
        "\n",
        "modelo = linear_model.LinearRegression()\n",
        "\n",
        "modelo.fit(X_train, y_train)\n",
        "predicao = modelo.predict(X_test)\n",
        "\n",
        "# Calculando o r2\n",
        "r2score = r2_score(y_test, predicao)\n",
        "print('R2 Score: {:.2f}'.format(r2score))\n",
        "\n",
        "# Histogramas dos resíduos\n",
        "residuos = y_test - predicao.reshape(-1,1)\n",
        "\n",
        "plt.hist(residuos)\n",
        "plt.title('Histograma dos resíduos da regressão')\n",
        "plt.show()\n",
        "\n",
        "# Calculando o p-valor e fazendo o teste de normalidade\n",
        "p_value = normal_ad(residuos)[1]\n",
        "if p_value < 0.05:\n",
        "  print('Residuos não são normalmente distribuídos')\n",
        "else:\n",
        "  print('Residuos são normalmente distribuídos')"
      ],
      "execution_count": 13,
      "outputs": [
        {
          "output_type": "stream",
          "name": "stdout",
          "text": [
            "Colunas: BMI e S4\n",
            "R2 Score: 0.48\n"
          ]
        },
        {
          "output_type": "display_data",
          "data": {
            "image/png": "[encoded data removed]",
            "text/plain": [
              "<Figure size 432x288 with 1 Axes>"
            ]
          },
          "metadata": {
            "needs_background": "light"
          }
        },
        {
          "output_type": "stream",
          "name": "stdout",
          "text": [
            "Residuos são normalmente distribuídos\n"
          ]
        }
      ]
    },
    {
      "cell_type": "code",
      "metadata": {
        "id": "JHOFZ2IndSEk"
      },
      "source": [
        ""
      ],
      "execution_count": null,
      "outputs": []
    }
  ]
}