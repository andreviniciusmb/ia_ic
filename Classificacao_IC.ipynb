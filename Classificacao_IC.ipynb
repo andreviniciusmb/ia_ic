{
  "nbformat": 4,
  "nbformat_minor": 0,
  "metadata": {
    "colab": {
      "name": "Classificacao_IC.ipynb",
      "provenance": [],
      "collapsed_sections": [],
      "authorship_tag": "ABX9TyO8DGcOBMv1bRoSeg8Gpd6S",
      "include_colab_link": true
    },
    "kernelspec": {
      "name": "python3",
      "display_name": "Python 3"
    },
    "language_info": {
      "name": "python"
    }
  },
  "cells": [
    {
      "cell_type": "markdown",
      "metadata": {
        "id": "view-in-github",
        "colab_type": "text"
      },
      "source": [
        "<a href=\"https://colab.research.google.com/github/andreviniciusmb/ia_ic/blob/main/Classificacao_IC.ipynb\" target=\"_parent\"><img src=\"https://colab.research.google.com/assets/colab-badge.svg\" alt=\"Open In Colab\"/></a>"
      ]
    },
    {
      "cell_type": "markdown",
      "metadata": {
        "id": "z_CH4s5pG0wQ"
      },
      "source": [
        "## Exercício\n",
        "\n",
        "No exemplo acima, na base de dados Iris, apenas as duas primeiras características foram exploradas. Você deve:\n",
        "\n",
        "- Explorar as demais características e mostrar resultados comparativos.\n",
        "\n",
        "- Testar com outro algoritmo de classificação e discutir os resultados."
      ]
    },
    {
      "cell_type": "code",
      "metadata": {
        "id": "qxioOoT8GeM_"
      },
      "source": [
        "from sklearn.neural_network import MLPClassifier\n",
        "import numpy as np\n",
        "import pandas as pd\n",
        "from sklearn import datasets\n",
        "import matplotlib.pyplot as plt\n",
        "from collections import Counter\n",
        "from sklearn.metrics import plot_confusion_matrix,classification_report\n",
        "from sklearn.model_selection import train_test_split\n",
        "\n",
        "# Modeling\n",
        "from sklearn.neighbors import KNeighborsClassifier\n",
        "\n",
        "import warnings\n",
        "warnings.filterwarnings('ignore')"
      ],
      "execution_count": 32,
      "outputs": []
    },
    {
      "cell_type": "code",
      "metadata": {
        "colab": {
          "base_uri": "https://localhost:8080/",
          "height": 204
        },
        "id": "C5CmBvVxVrrG",
        "outputId": "cbbde10a-603d-447f-af60-761694a7d260"
      },
      "source": [
        "iris = datasets.load_iris()\n",
        "data = pd.DataFrame(iris[\"data\"], columns=iris[\"feature_names\"])\n",
        "data.head()"
      ],
      "execution_count": 27,
      "outputs": [
        {
          "output_type": "execute_result",
          "data": {
            "text/html": [
              "<div>\n",
              "<style scoped>\n",
              "    .dataframe tbody tr th:only-of-type {\n",
              "        vertical-align: middle;\n",
              "    }\n",
              "\n",
              "    .dataframe tbody tr th {\n",
              "        vertical-align: top;\n",
              "    }\n",
              "\n",
              "    .dataframe thead th {\n",
              "        text-align: right;\n",
              "    }\n",
              "</style>\n",
              "<table border=\"1\" class=\"dataframe\">\n",
              "  <thead>\n",
              "    <tr style=\"text-align: right;\">\n",
              "      <th></th>\n",
              "      <th>sepal length (cm)</th>\n",
              "      <th>sepal width (cm)</th>\n",
              "      <th>petal length (cm)</th>\n",
              "      <th>petal width (cm)</th>\n",
              "    </tr>\n",
              "  </thead>\n",
              "  <tbody>\n",
              "    <tr>\n",
              "      <th>0</th>\n",
              "      <td>5.1</td>\n",
              "      <td>3.5</td>\n",
              "      <td>1.4</td>\n",
              "      <td>0.2</td>\n",
              "    </tr>\n",
              "    <tr>\n",
              "      <th>1</th>\n",
              "      <td>4.9</td>\n",
              "      <td>3.0</td>\n",
              "      <td>1.4</td>\n",
              "      <td>0.2</td>\n",
              "    </tr>\n",
              "    <tr>\n",
              "      <th>2</th>\n",
              "      <td>4.7</td>\n",
              "      <td>3.2</td>\n",
              "      <td>1.3</td>\n",
              "      <td>0.2</td>\n",
              "    </tr>\n",
              "    <tr>\n",
              "      <th>3</th>\n",
              "      <td>4.6</td>\n",
              "      <td>3.1</td>\n",
              "      <td>1.5</td>\n",
              "      <td>0.2</td>\n",
              "    </tr>\n",
              "    <tr>\n",
              "      <th>4</th>\n",
              "      <td>5.0</td>\n",
              "      <td>3.6</td>\n",
              "      <td>1.4</td>\n",
              "      <td>0.2</td>\n",
              "    </tr>\n",
              "  </tbody>\n",
              "</table>\n",
              "</div>"
            ],
            "text/plain": [
              "   sepal length (cm)  sepal width (cm)  petal length (cm)  petal width (cm)\n",
              "0                5.1               3.5                1.4               0.2\n",
              "1                4.9               3.0                1.4               0.2\n",
              "2                4.7               3.2                1.3               0.2\n",
              "3                4.6               3.1                1.5               0.2\n",
              "4                5.0               3.6                1.4               0.2"
            ]
          },
          "metadata": {},
          "execution_count": 27
        }
      ]
    },
    {
      "cell_type": "code",
      "metadata": {
        "id": "Cfky7KHCG8kP"
      },
      "source": [
        "## Prevendo com a coluna petal length\n",
        "X = pd.DataFrame(data['petal length (cm)'],columns=['petal length (cm)'] )\n",
        "y = pd.DataFrame(iris[\"target\"],columns=['target'])\n",
        "X_train, X_test,y_train,y_test = train_test_split(X,y,test_size=0.2)\n",
        "\n",
        "clf = MLPClassifier(alpha=0.01,max_iter=2000)\n",
        "clf.fit(X_train, y_train)  \n",
        "pred = clf.predict(X_test)\n",
        "\n",
        "print(classification_report(y_test, pred))"
      ],
      "execution_count": 10,
      "outputs": []
    },
    {
      "cell_type": "code",
      "metadata": {
        "colab": {
          "base_uri": "https://localhost:8080/",
          "height": 709
        },
        "id": "GYzYDRjOHSI0",
        "outputId": "658c6521-8756-4950-f657-d9a9ab5a8e01"
      },
      "source": [
        "titles_options = [(\"Matriz de confusão, sem normalizar\", None),\n",
        "                  (\"Matriz de confusão normalizada\", 'true')]\n",
        "for title, normalize in titles_options:\n",
        "    disp = plot_confusion_matrix(clf, y_test, pred,\n",
        "                                 cmap=plt.cm.Blues,\n",
        "                                 normalize=normalize)\n",
        "    disp.ax_.set_title(title)\n",
        "\n",
        "    print(title)\n",
        "    print(disp.confusion_matrix)\n",
        "\n",
        "plt.show()"
      ],
      "execution_count": 25,
      "outputs": [
        {
          "output_type": "stream",
          "name": "stdout",
          "text": [
            "Matriz de confusão, sem normalizar\n",
            "[[10  0  0]\n",
            " [ 8  0  0]\n",
            " [12  0  0]]\n",
            "Matriz de confusão normalizada\n",
            "[[1. 0. 0.]\n",
            " [1. 0. 0.]\n",
            " [1. 0. 0.]]\n"
          ]
        },
        {
          "output_type": "display_data",
          "data": {
            "image/png": "[encoded data removed]",
            "text/plain": [
              "<Figure size 432x288 with 2 Axes>"
            ]
          },
          "metadata": {
            "needs_background": "light"
          }
        },
        {
          "output_type": "display_data",
          "data": {
            "image/png": "[encoded data removed]",
            "text/plain": [
              "<Figure size 432x288 with 2 Axes>"
            ]
          },
          "metadata": {
            "needs_background": "light"
          }
        }
      ]
    },
    {
      "cell_type": "code",
      "metadata": {
        "id": "MQtvQnLRIPDu",
        "colab": {
          "base_uri": "https://localhost:8080/"
        },
        "outputId": "49568cdc-e8a0-4104-fb8c-7379154f79f3"
      },
      "source": [
        "## Prevendo com a coluna petal length\n",
        "X = pd.DataFrame(data['petal width (cm)'],columns=['petal width (cm)'] )\n",
        "y = pd.DataFrame(iris[\"target\"],columns=['target'])\n",
        "X_train, X_test,y_train,y_test = train_test_split(X,y,test_size=0.2)\n",
        "\n",
        "clf = MLPClassifier(alpha=0.01,max_iter=2000)\n",
        "clf.fit(X_train, y_train)  \n",
        "pred = clf.predict(X_test)\n",
        "\n",
        "print(classification_report(y_test, pred))"
      ],
      "execution_count": 29,
      "outputs": [
        {
          "output_type": "stream",
          "name": "stderr",
          "text": [
            "/usr/local/lib/python3.7/dist-packages/sklearn/neural_network/_multilayer_perceptron.py:934: DataConversionWarning: A column-vector y was passed when a 1d array was expected. Please change the shape of y to (n_samples, ), for example using ravel().\n",
            "  y = column_or_1d(y, warn=True)\n"
          ]
        },
        {
          "output_type": "stream",
          "name": "stdout",
          "text": [
            "              precision    recall  f1-score   support\n",
            "\n",
            "           0       1.00      1.00      1.00         9\n",
            "           1       0.80      1.00      0.89         8\n",
            "           2       1.00      0.85      0.92        13\n",
            "\n",
            "    accuracy                           0.93        30\n",
            "   macro avg       0.93      0.95      0.94        30\n",
            "weighted avg       0.95      0.93      0.93        30\n",
            "\n"
          ]
        }
      ]
    },
    {
      "cell_type": "code",
      "metadata": {
        "colab": {
          "base_uri": "https://localhost:8080/",
          "height": 709
        },
        "id": "PjtNrLV6V-jP",
        "outputId": "a74e7539-06c8-4388-fb83-0a7518c27618"
      },
      "source": [
        "titles_options = [(\"Matriz de confusão, sem normalizar\", None),\n",
        "                  (\"Matriz de confusão normalizada\", 'true')]\n",
        "for title, normalize in titles_options:\n",
        "    disp = plot_confusion_matrix(clf, y_test, pred,\n",
        "                                 cmap=plt.cm.Blues,\n",
        "                                 normalize=normalize)\n",
        "    disp.ax_.set_title(title)\n",
        "\n",
        "    print(title)\n",
        "    print(disp.confusion_matrix)\n",
        "\n",
        "plt.show()"
      ],
      "execution_count": 30,
      "outputs": [
        {
          "output_type": "stream",
          "name": "stdout",
          "text": [
            "Matriz de confusão, sem normalizar\n",
            "[[ 9  0  0]\n",
            " [ 0  8  2]\n",
            " [ 0  0 11]]\n",
            "Matriz de confusão normalizada\n",
            "[[1.  0.  0. ]\n",
            " [0.  0.8 0.2]\n",
            " [0.  0.  1. ]]\n"
          ]
        },
        {
          "output_type": "display_data",
          "data": {
            "image/png": "[encoded data removed]",
            "text/plain": [
              "<Figure size 432x288 with 2 Axes>"
            ]
          },
          "metadata": {
            "needs_background": "light"
          }
        },
        {
          "output_type": "display_data",
          "data": {
            "image/png": "[encoded data removed]",
            "text/plain": [
              "<Figure size 432x288 with 2 Axes>"
            ]
          },
          "metadata": {
            "needs_background": "light"
          }
        }
      ]
    },
    {
      "cell_type": "code",
      "metadata": {
        "colab": {
          "base_uri": "https://localhost:8080/"
        },
        "id": "7OS0z4XAWISb",
        "outputId": "5cb2707c-8e4e-409e-fb1c-7446d1cbb8a0"
      },
      "source": [
        "## Testando com outros algoritmos - KNeighborsClassifier\n",
        "## Prevendo com a coluna petal length\n",
        "\n",
        "X = pd.DataFrame(data['petal width (cm)'],columns=['petal width (cm)'] )\n",
        "y = pd.DataFrame(iris[\"target\"],columns=['target'])\n",
        "X_train, X_test,y_train,y_test = train_test_split(X,y,test_size=0.2)\n",
        "\n",
        "clf = KNeighborsClassifier()\n",
        "clf.fit(X_train, y_train)  \n",
        "pred = clf.predict(X_test)\n",
        "\n",
        "print(classification_report(y_test, pred))"
      ],
      "execution_count": 35,
      "outputs": [
        {
          "output_type": "stream",
          "name": "stdout",
          "text": [
            "              precision    recall  f1-score   support\n",
            "\n",
            "           0       1.00      1.00      1.00        13\n",
            "           1       0.88      1.00      0.93         7\n",
            "           2       1.00      0.90      0.95        10\n",
            "\n",
            "    accuracy                           0.97        30\n",
            "   macro avg       0.96      0.97      0.96        30\n",
            "weighted avg       0.97      0.97      0.97        30\n",
            "\n"
          ]
        }
      ]
    },
    {
      "cell_type": "code",
      "metadata": {
        "colab": {
          "base_uri": "https://localhost:8080/",
          "height": 709
        },
        "id": "RS0bEFQHW9zE",
        "outputId": "fa636f4f-be30-4515-9a31-f63a4a36d93b"
      },
      "source": [
        "titles_options = [(\"Matriz de confusão, sem normalizar\", None),\n",
        "                  (\"Matriz de confusão normalizada\", 'true')]\n",
        "for title, normalize in titles_options:\n",
        "    disp = plot_confusion_matrix(clf, y_test, pred,\n",
        "                                 cmap=plt.cm.Blues,\n",
        "                                 normalize=normalize)\n",
        "    disp.ax_.set_title(title)\n",
        "\n",
        "    print(title)\n",
        "    print(disp.confusion_matrix)\n",
        "\n",
        "plt.show()"
      ],
      "execution_count": 36,
      "outputs": [
        {
          "output_type": "stream",
          "name": "stdout",
          "text": [
            "Matriz de confusão, sem normalizar\n",
            "[[13  0  0]\n",
            " [ 0  7  1]\n",
            " [ 0  0  9]]\n",
            "Matriz de confusão normalizada\n",
            "[[1.    0.    0.   ]\n",
            " [0.    0.875 0.125]\n",
            " [0.    0.    1.   ]]\n"
          ]
        },
        {
          "output_type": "display_data",
          "data": {
            "image/png": "[encoded data removed]",
            "text/plain": [
              "<Figure size 432x288 with 2 Axes>"
            ]
          },
          "metadata": {
            "needs_background": "light"
          }
        },
        {
          "output_type": "display_data",
          "data": {
            "image/png": "[encoded data removed]",
            "text/plain": [
              "<Figure size 432x288 with 2 Axes>"
            ]
          },
          "metadata": {
            "needs_background": "light"
          }
        }
      ]
    },
    {
      "cell_type": "code",
      "metadata": {
        "id": "6sQMqwxcXCFD"
      },
      "source": [
        ""
      ],
      "execution_count": null,
      "outputs": []
    }
  ]
}