{
  "nbformat": 4,
  "nbformat_minor": 0,
  "metadata": {
    "colab": {
      "name": "Classificacao_IC.ipynb",
      "provenance": [],
      "collapsed_sections": [],
      "authorship_tag": "ABX9TyOg+tozL2PE0FeAHOElYLTC",
      "include_colab_link": true
    },
    "kernelspec": {
      "name": "python3",
      "display_name": "Python 3"
    },
    "language_info": {
      "name": "python"
    }
  },
  "cells": [
    {
      "cell_type": "markdown",
      "metadata": {
        "id": "view-in-github",
        "colab_type": "text"
      },
      "source": [
        "<a href=\"https://colab.research.google.com/github/andreviniciusmb/ia_ic/blob/main/Classificacao_IC.ipynb\" target=\"_parent\"><img src=\"https://colab.research.google.com/assets/colab-badge.svg\" alt=\"Open In Colab\"/></a>"
      ]
    },
    {
      "cell_type": "markdown",
      "metadata": {
        "id": "z_CH4s5pG0wQ"
      },
      "source": [
        "## Exercício\n",
        "\n",
        "No exemplo acima, na base de dados Iris, apenas as duas primeiras características foram exploradas. Você deve:\n",
        "\n",
        "- Explorar as demais características e mostrar resultados comparativos.\n",
        "\n",
        "- Testar com outro algoritmo de classificação e discutir os resultados."
      ]
    },
    {
      "cell_type": "code",
      "metadata": {
        "id": "qxioOoT8GeM_"
      },
      "source": [
        "from sklearn.neural_network import MLPClassifier\n",
        "import numpy as np\n",
        "import pandas as pd\n",
        "from sklearn import datasets\n",
        "import matplotlib.pyplot as plt\n",
        "from collections import Counter\n",
        "from sklearn.metrics import plot_confusion_matrix,classification_report,confusion_matrix\n",
        "from sklearn.model_selection import train_test_split\n",
        "\n",
        "# Modeling\n",
        "from sklearn.neighbors import KNeighborsClassifier\n",
        "\n",
        "import warnings\n",
        "warnings.filterwarnings('ignore')"
      ],
      "execution_count": 40,
      "outputs": []
    },
    {
      "cell_type": "code",
      "metadata": {
        "colab": {
          "base_uri": "https://localhost:8080/",
          "height": 204
        },
        "id": "C5CmBvVxVrrG",
        "outputId": "cbbde10a-603d-447f-af60-761694a7d260"
      },
      "source": [
        "iris = datasets.load_iris()\n",
        "data = pd.DataFrame(iris[\"data\"], columns=iris[\"feature_names\"])\n",
        "data.head()"
      ],
      "execution_count": 27,
      "outputs": [
        {
          "output_type": "execute_result",
          "data": {
            "text/html": [
              "<div>\n",
              "<style scoped>\n",
              "    .dataframe tbody tr th:only-of-type {\n",
              "        vertical-align: middle;\n",
              "    }\n",
              "\n",
              "    .dataframe tbody tr th {\n",
              "        vertical-align: top;\n",
              "    }\n",
              "\n",
              "    .dataframe thead th {\n",
              "        text-align: right;\n",
              "    }\n",
              "</style>\n",
              "<table border=\"1\" class=\"dataframe\">\n",
              "  <thead>\n",
              "    <tr style=\"text-align: right;\">\n",
              "      <th></th>\n",
              "      <th>sepal length (cm)</th>\n",
              "      <th>sepal width (cm)</th>\n",
              "      <th>petal length (cm)</th>\n",
              "      <th>petal width (cm)</th>\n",
              "    </tr>\n",
              "  </thead>\n",
              "  <tbody>\n",
              "    <tr>\n",
              "      <th>0</th>\n",
              "      <td>5.1</td>\n",
              "      <td>3.5</td>\n",
              "      <td>1.4</td>\n",
              "      <td>0.2</td>\n",
              "    </tr>\n",
              "    <tr>\n",
              "      <th>1</th>\n",
              "      <td>4.9</td>\n",
              "      <td>3.0</td>\n",
              "      <td>1.4</td>\n",
              "      <td>0.2</td>\n",
              "    </tr>\n",
              "    <tr>\n",
              "      <th>2</th>\n",
              "      <td>4.7</td>\n",
              "      <td>3.2</td>\n",
              "      <td>1.3</td>\n",
              "      <td>0.2</td>\n",
              "    </tr>\n",
              "    <tr>\n",
              "      <th>3</th>\n",
              "      <td>4.6</td>\n",
              "      <td>3.1</td>\n",
              "      <td>1.5</td>\n",
              "      <td>0.2</td>\n",
              "    </tr>\n",
              "    <tr>\n",
              "      <th>4</th>\n",
              "      <td>5.0</td>\n",
              "      <td>3.6</td>\n",
              "      <td>1.4</td>\n",
              "      <td>0.2</td>\n",
              "    </tr>\n",
              "  </tbody>\n",
              "</table>\n",
              "</div>"
            ],
            "text/plain": [
              "   sepal length (cm)  sepal width (cm)  petal length (cm)  petal width (cm)\n",
              "0                5.1               3.5                1.4               0.2\n",
              "1                4.9               3.0                1.4               0.2\n",
              "2                4.7               3.2                1.3               0.2\n",
              "3                4.6               3.1                1.5               0.2\n",
              "4                5.0               3.6                1.4               0.2"
            ]
          },
          "metadata": {},
          "execution_count": 27
        }
      ]
    },
    {
      "cell_type": "code",
      "metadata": {
        "id": "Cfky7KHCG8kP",
        "colab": {
          "base_uri": "https://localhost:8080/"
        },
        "outputId": "3ff55a52-8c5c-4efd-f969-d6313542becc"
      },
      "source": [
        "## Prevendo com a coluna petal length\n",
        "X = pd.DataFrame(data['petal length (cm)'],columns=['petal length (cm)'] )\n",
        "y = pd.DataFrame(iris[\"target\"],columns=['target'])\n",
        "X_train, X_test,y_train,y_test = train_test_split(X,y,test_size=0.2)\n",
        "\n",
        "clf = MLPClassifier(alpha=0.01,max_iter=2000)\n",
        "clf.fit(X_train, y_train)  \n",
        "pred = clf.predict(X_test)\n",
        "\n",
        "print(confusion_matrix(y_test,pred))\n",
        "print(classification_report(y_test, pred))"
      ],
      "execution_count": 41,
      "outputs": [
        {
          "output_type": "stream",
          "name": "stdout",
          "text": [
            "[[12  0  0]\n",
            " [ 0  5  2]\n",
            " [ 0  0 11]]\n",
            "              precision    recall  f1-score   support\n",
            "\n",
            "           0       1.00      1.00      1.00        12\n",
            "           1       1.00      0.71      0.83         7\n",
            "           2       0.85      1.00      0.92        11\n",
            "\n",
            "    accuracy                           0.93        30\n",
            "   macro avg       0.95      0.90      0.92        30\n",
            "weighted avg       0.94      0.93      0.93        30\n",
            "\n"
          ]
        }
      ]
    },
    {
      "cell_type": "code",
      "metadata": {
        "id": "MQtvQnLRIPDu",
        "colab": {
          "base_uri": "https://localhost:8080/"
        },
        "outputId": "aa6313ab-8837-4cf7-e2ea-038d2db9efca"
      },
      "source": [
        "## Prevendo com a coluna petal length\n",
        "X = pd.DataFrame(data['petal width (cm)'],columns=['petal width (cm)'] )\n",
        "y = pd.DataFrame(iris[\"target\"],columns=['target'])\n",
        "X_train, X_test,y_train,y_test = train_test_split(X,y,test_size=0.2)\n",
        "\n",
        "clf = MLPClassifier(alpha=0.01,max_iter=2000)\n",
        "clf.fit(X_train, y_train)  \n",
        "pred = clf.predict(X_test)\n",
        "\n",
        "print(confusion_matrix(y_test,pred))\n",
        "print(classification_report(y_test, pred))"
      ],
      "execution_count": 42,
      "outputs": [
        {
          "output_type": "stream",
          "name": "stdout",
          "text": [
            "[[ 7  0  0]\n",
            " [ 0 11  0]\n",
            " [ 0  1 11]]\n",
            "              precision    recall  f1-score   support\n",
            "\n",
            "           0       1.00      1.00      1.00         7\n",
            "           1       0.92      1.00      0.96        11\n",
            "           2       1.00      0.92      0.96        12\n",
            "\n",
            "    accuracy                           0.97        30\n",
            "   macro avg       0.97      0.97      0.97        30\n",
            "weighted avg       0.97      0.97      0.97        30\n",
            "\n"
          ]
        }
      ]
    },
    {
      "cell_type": "code",
      "metadata": {
        "colab": {
          "base_uri": "https://localhost:8080/"
        },
        "id": "7OS0z4XAWISb",
        "outputId": "be2f715d-4932-4386-af39-b9e989fe26e7"
      },
      "source": [
        "## Testando com outros algoritmos - KNeighborsClassifier\n",
        "## Prevendo com a coluna petal length\n",
        "\n",
        "X = pd.DataFrame(data['petal width (cm)'],columns=['petal width (cm)'] )\n",
        "y = pd.DataFrame(iris[\"target\"],columns=['target'])\n",
        "X_train, X_test,y_train,y_test = train_test_split(X,y,test_size=0.2)\n",
        "\n",
        "clf = KNeighborsClassifier()\n",
        "clf.fit(X_train, y_train)  \n",
        "pred = clf.predict(X_test)\n",
        "\n",
        "print(confusion_matrix(y_test,pred))\n",
        "print(classification_report(y_test, pred))"
      ],
      "execution_count": 43,
      "outputs": [
        {
          "output_type": "stream",
          "name": "stdout",
          "text": [
            "[[13  0  0]\n",
            " [ 0  9  0]\n",
            " [ 0  1  7]]\n",
            "              precision    recall  f1-score   support\n",
            "\n",
            "           0       1.00      1.00      1.00        13\n",
            "           1       0.90      1.00      0.95         9\n",
            "           2       1.00      0.88      0.93         8\n",
            "\n",
            "    accuracy                           0.97        30\n",
            "   macro avg       0.97      0.96      0.96        30\n",
            "weighted avg       0.97      0.97      0.97        30\n",
            "\n"
          ]
        }
      ]
    },
    {
      "cell_type": "code",
      "metadata": {
        "id": "6sQMqwxcXCFD"
      },
      "source": [
        ""
      ],
      "execution_count": null,
      "outputs": []
    }
  ]
}