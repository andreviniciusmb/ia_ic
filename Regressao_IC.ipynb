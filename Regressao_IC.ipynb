{
  "nbformat": 4,
  "nbformat_minor": 0,
  "metadata": {
    "colab": {
      "name": "Regressao_IC.ipynb",
      "provenance": [],
      "collapsed_sections": [
        "_9n-vvKQMALh",
        "LY1Obl-VMY2X"
      ],
      "authorship_tag": "ABX9TyP389fERs/NiFK9q9I8UbWc",
      "include_colab_link": true
    },
    "kernelspec": {
      "name": "python3",
      "display_name": "Python 3"
    },
    "language_info": {
      "name": "python"
    }
  },
  "cells": [
    {
      "cell_type": "markdown",
      "metadata": {
        "id": "view-in-github",
        "colab_type": "text"
      },
      "source": [
        "<a href=\"https://colab.research.google.com/github/andreviniciusmb/ia_ic/blob/main/Regressao_IC.ipynb\" target=\"_parent\"><img src=\"https://colab.research.google.com/assets/colab-badge.svg\" alt=\"Open In Colab\"/></a>"
      ]
    },
    {
      "cell_type": "markdown",
      "metadata": {
        "id": "4H6tkGTwKCes"
      },
      "source": [
        "# Exercício 2 - IC\n",
        "Com a variável Idade temos um erro médio absoluto é de 1311,16 e o objetivo é escolher 2 outras variáveis e compará-las isoladamente e depois combinar duas características para depois analisar o resultado."
      ]
    },
    {
      "cell_type": "code",
      "metadata": {
        "id": "X8dwrdLdJmRs"
      },
      "source": [
        "import numpy as np\n",
        "import pandas as pd\n",
        "import matplotlib.pyplot as plt\n",
        "from sklearn import linear_model\n",
        "from sklearn.datasets import load_diabetes"
      ],
      "execution_count": null,
      "outputs": []
    },
    {
      "cell_type": "code",
      "metadata": {
        "colab": {
          "base_uri": "https://localhost:8080/"
        },
        "id": "8IflmJX5KkQ9",
        "outputId": "c1605bac-eab4-490e-83be-0302c8e414b3"
      },
      "source": [
        "# Load the diabetes dataset\n",
        "diabetes = load_diabetes()\n",
        "\n",
        "\n",
        "print (diabetes.DESCR)"
      ],
      "execution_count": null,
      "outputs": [
        {
          "output_type": "stream",
          "name": "stdout",
          "text": [
            ".. _diabetes_dataset:\n",
            "\n",
            "Diabetes dataset\n",
            "----------------\n",
            "\n",
            "Ten baseline variables, age, sex, body mass index, average blood\n",
            "pressure, and six blood serum measurements were obtained for each of n =\n",
            "442 diabetes patients, as well as the response of interest, a\n",
            "quantitative measure of disease progression one year after baseline.\n",
            "\n",
            "**Data Set Characteristics:**\n",
            "\n",
            "  :Number of Instances: 442\n",
            "\n",
            "  :Number of Attributes: First 10 columns are numeric predictive values\n",
            "\n",
            "  :Target: Column 11 is a quantitative measure of disease progression one year after baseline\n",
            "\n",
            "  :Attribute Information:\n",
            "      - Age\n",
            "      - Sex\n",
            "      - Body mass index\n",
            "      - Average blood pressure\n",
            "      - S1\n",
            "      - S2\n",
            "      - S3\n",
            "      - S4\n",
            "      - S5\n",
            "      - S6\n",
            "\n",
            "Note: Each of these 10 feature variables have been mean centered and scaled by the standard deviation times `n_samples` (i.e. the sum of squares of each column totals 1).\n",
            "\n",
            "Source URL:\n",
            "https://www4.stat.ncsu.edu/~boos/var.select/diabetes.html\n",
            "\n",
            "For more information see:\n",
            "Bradley Efron, Trevor Hastie, Iain Johnstone and Robert Tibshirani (2004) \"Least Angle Regression,\" Annals of Statistics (with discussion), 407-499.\n",
            "(https://web.stanford.edu/~hastie/Papers/LARS/LeastAngle_2002.pdf)\n"
          ]
        }
      ]
    },
    {
      "cell_type": "code",
      "metadata": {
        "colab": {
          "base_uri": "https://localhost:8080/",
          "height": 204
        },
        "id": "h52K5Y9aKyoI",
        "outputId": "9861bca5-84e7-4d16-916b-650b16076c3a"
      },
      "source": [
        "tabela = pd.DataFrame(diabetes.data)\n",
        "tabela.columns = diabetes.feature_names\n",
        "\n",
        "# e a progressao da doenca\n",
        "tabela['y'] = diabetes.target\n",
        "\n",
        "tabela.head()"
      ],
      "execution_count": null,
      "outputs": [
        {
          "output_type": "execute_result",
          "data": {
            "text/html": [
              "<div>\n",
              "<style scoped>\n",
              "    .dataframe tbody tr th:only-of-type {\n",
              "        vertical-align: middle;\n",
              "    }\n",
              "\n",
              "    .dataframe tbody tr th {\n",
              "        vertical-align: top;\n",
              "    }\n",
              "\n",
              "    .dataframe thead th {\n",
              "        text-align: right;\n",
              "    }\n",
              "</style>\n",
              "<table border=\"1\" class=\"dataframe\">\n",
              "  <thead>\n",
              "    <tr style=\"text-align: right;\">\n",
              "      <th></th>\n",
              "      <th>age</th>\n",
              "      <th>sex</th>\n",
              "      <th>bmi</th>\n",
              "      <th>bp</th>\n",
              "      <th>s1</th>\n",
              "      <th>s2</th>\n",
              "      <th>s3</th>\n",
              "      <th>s4</th>\n",
              "      <th>s5</th>\n",
              "      <th>s6</th>\n",
              "      <th>y</th>\n",
              "    </tr>\n",
              "  </thead>\n",
              "  <tbody>\n",
              "    <tr>\n",
              "      <th>0</th>\n",
              "      <td>0.038076</td>\n",
              "      <td>0.050680</td>\n",
              "      <td>0.061696</td>\n",
              "      <td>0.021872</td>\n",
              "      <td>-0.044223</td>\n",
              "      <td>-0.034821</td>\n",
              "      <td>-0.043401</td>\n",
              "      <td>-0.002592</td>\n",
              "      <td>0.019908</td>\n",
              "      <td>-0.017646</td>\n",
              "      <td>151.0</td>\n",
              "    </tr>\n",
              "    <tr>\n",
              "      <th>1</th>\n",
              "      <td>-0.001882</td>\n",
              "      <td>-0.044642</td>\n",
              "      <td>-0.051474</td>\n",
              "      <td>-0.026328</td>\n",
              "      <td>-0.008449</td>\n",
              "      <td>-0.019163</td>\n",
              "      <td>0.074412</td>\n",
              "      <td>-0.039493</td>\n",
              "      <td>-0.068330</td>\n",
              "      <td>-0.092204</td>\n",
              "      <td>75.0</td>\n",
              "    </tr>\n",
              "    <tr>\n",
              "      <th>2</th>\n",
              "      <td>0.085299</td>\n",
              "      <td>0.050680</td>\n",
              "      <td>0.044451</td>\n",
              "      <td>-0.005671</td>\n",
              "      <td>-0.045599</td>\n",
              "      <td>-0.034194</td>\n",
              "      <td>-0.032356</td>\n",
              "      <td>-0.002592</td>\n",
              "      <td>0.002864</td>\n",
              "      <td>-0.025930</td>\n",
              "      <td>141.0</td>\n",
              "    </tr>\n",
              "    <tr>\n",
              "      <th>3</th>\n",
              "      <td>-0.089063</td>\n",
              "      <td>-0.044642</td>\n",
              "      <td>-0.011595</td>\n",
              "      <td>-0.036656</td>\n",
              "      <td>0.012191</td>\n",
              "      <td>0.024991</td>\n",
              "      <td>-0.036038</td>\n",
              "      <td>0.034309</td>\n",
              "      <td>0.022692</td>\n",
              "      <td>-0.009362</td>\n",
              "      <td>206.0</td>\n",
              "    </tr>\n",
              "    <tr>\n",
              "      <th>4</th>\n",
              "      <td>0.005383</td>\n",
              "      <td>-0.044642</td>\n",
              "      <td>-0.036385</td>\n",
              "      <td>0.021872</td>\n",
              "      <td>0.003935</td>\n",
              "      <td>0.015596</td>\n",
              "      <td>0.008142</td>\n",
              "      <td>-0.002592</td>\n",
              "      <td>-0.031991</td>\n",
              "      <td>-0.046641</td>\n",
              "      <td>135.0</td>\n",
              "    </tr>\n",
              "  </tbody>\n",
              "</table>\n",
              "</div>"
            ],
            "text/plain": [
              "        age       sex       bmi        bp  ...        s4        s5        s6      y\n",
              "0  0.038076  0.050680  0.061696  0.021872  ... -0.002592  0.019908 -0.017646  151.0\n",
              "1 -0.001882 -0.044642 -0.051474 -0.026328  ... -0.039493 -0.068330 -0.092204   75.0\n",
              "2  0.085299  0.050680  0.044451 -0.005671  ... -0.002592  0.002864 -0.025930  141.0\n",
              "3 -0.089063 -0.044642 -0.011595 -0.036656  ...  0.034309  0.022692 -0.009362  206.0\n",
              "4  0.005383 -0.044642 -0.036385  0.021872  ... -0.002592 -0.031991 -0.046641  135.0\n",
              "\n",
              "[5 rows x 11 columns]"
            ]
          },
          "metadata": {},
          "execution_count": 29
        }
      ]
    },
    {
      "cell_type": "markdown",
      "metadata": {
        "id": "_9n-vvKQMALh"
      },
      "source": [
        "### 1° modelo - Variável BMI  (Índice de Massa Corporal)"
      ]
    },
    {
      "cell_type": "code",
      "metadata": {
        "colab": {
          "base_uri": "https://localhost:8080/"
        },
        "id": "bEurICZFK5U1",
        "outputId": "636d2598-4868-4595-c462-c9ece5cd3854"
      },
      "source": [
        "#Para criar o modelo irei usar todos os dados, exceto os últimos 20 registros, da coluna bmi (Índice de Massa Corporal)\n",
        "X = tabela['bmi']\n",
        "X_treinamento = X[:-20].array.to_numpy().reshape(-1,1)\n",
        "#Para validar o modelo, usei os 20 últimos registros\n",
        "X_teste = X[-20:].array.to_numpy().reshape(-1,1)\n",
        "\n",
        "y = tabela['y']\n",
        "#mesma coisa aqui, porém, para o target (coluna y)\n",
        "y_treinamento = y[:-20]\n",
        "y_teste = y[-20:].array.to_numpy().reshape(-1,1)\n",
        "\n",
        "#cria o modelo de regressão linear\n",
        "regr = linear_model.LinearRegression()\n",
        "\n",
        "# treina o modelo com os dados treinamento\n",
        "regr.fit(X_treinamento, y_treinamento)\n",
        "\n",
        "#coeficientes b1\n",
        "print('Coeficiente b1: \\n', regr.coef_)\n",
        "#intercepto b0\n",
        "print('Coeficiente b0: \\n', regr.intercept_)"
      ],
      "execution_count": null,
      "outputs": [
        {
          "output_type": "stream",
          "name": "stdout",
          "text": [
            "Coeficiente b1: \n",
            " [938.23786125]\n",
            "Coeficiente b0: \n",
            " 152.91886182616167\n"
          ]
        }
      ]
    },
    {
      "cell_type": "code",
      "metadata": {
        "colab": {
          "base_uri": "https://localhost:8080/",
          "height": 287
        },
        "id": "p-HUFWabLWzh",
        "outputId": "441703be-a9ae-4c64-d659-c4af7fe5d230"
      },
      "source": [
        "# Predição/validação\n",
        "diabetes_y_pred = regr.predict(X_teste)\n",
        "#plota os dados reais\n",
        "plt.scatter(X_teste,y_teste,  color='black',label='Actual')\n",
        "# plota os dados preditos\n",
        "plt.plot(X_teste, diabetes_y_pred, color='blue', linewidth=3,label='predict')\n",
        "\n",
        "plt.legend()\n",
        "plt.xlabel(\"Índice de Massa Corporal\", size = 16)\n",
        "plt.ylabel(\"Progressão da diabetes\", size = 16)\n",
        "plt.show()"
      ],
      "execution_count": null,
      "outputs": [
        {
          "output_type": "display_data",
          "data": {
            "image/png": "[encoded data removed]",
            "text/plain": [
              "<Figure size 432x288 with 1 Axes>"
            ]
          },
          "metadata": {
            "needs_background": "light"
          }
        }
      ]
    },
    {
      "cell_type": "code",
      "metadata": {
        "colab": {
          "base_uri": "https://localhost:8080/"
        },
        "id": "KzukMwkTMRSU",
        "outputId": "6e92bf2f-81e4-474e-f4de-eb920744a52c"
      },
      "source": [
        "print('Erro Médio Absoluto (MAE): ', sum(abs(y_teste-diabetes_y_pred.reshape(-1,1))))\n",
        "\n",
        "## O MSE torna menos tolerante a outliers, pSenalizando mais os outliers\n",
        "print('Erro Médio Quadrado (MSE): ', sum((y_teste-diabetes_y_pred.reshape(-1,1))**2)/len(y_teste))"
      ],
      "execution_count": null,
      "outputs": [
        {
          "output_type": "stream",
          "name": "stdout",
          "text": [
            "Erro Médio Absoluto (MAE):  [824.5418258]\n",
            "Erro Médio Quadrado (MSE):  [2548.07239873]\n"
          ]
        }
      ]
    },
    {
      "cell_type": "markdown",
      "metadata": {
        "id": "LY1Obl-VMY2X"
      },
      "source": [
        "### 2° modelo - Variável S4"
      ]
    },
    {
      "cell_type": "code",
      "metadata": {
        "colab": {
          "base_uri": "https://localhost:8080/"
        },
        "id": "mO5dcv_WLyah",
        "outputId": "de4423e4-0493-48d4-8bf5-2150db627366"
      },
      "source": [
        "#Para criar o modelo irei usar todos os dados, exceto os últimos 20 registros, da coluna s4\n",
        "X = tabela['s4']\n",
        "X_treinamento = X[:-20].array.to_numpy().reshape(-1,1)\n",
        "#Para validar o modelo, usei os 20 últimos registros\n",
        "X_teste = X[-20:].array.to_numpy().reshape(-1,1)\n",
        "\n",
        "y = tabela['y']\n",
        "#mesma coisa aqui, porém, para o target (coluna y)\n",
        "y_treinamento = y[:-20]\n",
        "y_teste = y[-20:].array.to_numpy().reshape(-1,1)\n",
        "\n",
        "#cria o modelo de regressão linear\n",
        "regr = linear_model.LinearRegression()\n",
        "\n",
        "# treina o modelo com os dados treinamento\n",
        "regr.fit(X_treinamento, y_treinamento)\n",
        "\n",
        "#coeficientes b1\n",
        "print('Coeficiente b1: \\n', regr.coef_)\n",
        "#intercepto b0\n",
        "print('Coeficiente b0: \\n', regr.intercept_)"
      ],
      "execution_count": null,
      "outputs": [
        {
          "output_type": "stream",
          "name": "stdout",
          "text": [
            "Coeficiente b1: \n",
            " [701.12961061]\n",
            "Coeficiente b0: \n",
            " 153.29420090748866\n"
          ]
        }
      ]
    },
    {
      "cell_type": "code",
      "metadata": {
        "colab": {
          "base_uri": "https://localhost:8080/",
          "height": 287
        },
        "id": "czaV4cQdLfoI",
        "outputId": "7fe85fc7-50f2-4cb1-b249-1ed7322d361a"
      },
      "source": [
        "# Predição/validação\n",
        "diabetes_y_pred = regr.predict(X_teste)\n",
        "#plota os dados reais\n",
        "plt.scatter(X_teste,y_teste,  color='black',label='Actual')\n",
        "# plota os dados preditos\n",
        "plt.plot(X_teste, diabetes_y_pred, color='blue', linewidth=3,label='predict')\n",
        "\n",
        "plt.legend()\n",
        "plt.xlabel(\"Índice de Massa Corporal\", size = 16)\n",
        "plt.ylabel(\"Progressão da diabetes\", size = 16)\n",
        "plt.show()"
      ],
      "execution_count": null,
      "outputs": [
        {
          "output_type": "display_data",
          "data": {
            "image/png": "[encoded data removed]",
            "text/plain": [
              "<Figure size 432x288 with 1 Axes>"
            ]
          },
          "metadata": {
            "needs_background": "light"
          }
        }
      ]
    },
    {
      "cell_type": "code",
      "metadata": {
        "colab": {
          "base_uri": "https://localhost:8080/"
        },
        "id": "wh18txnPOGId",
        "outputId": "20829a77-94b7-4509-9aa2-237762a45554"
      },
      "source": [
        "print('Erro Médio Absoluto (MAE): ', sum(abs(y_teste-diabetes_y_pred.reshape(-1,1))))\n",
        "\n",
        "## O MSE torna menos tolerante a outliers, penalizando mais os outliers\n",
        "print('Erro Médio Quadrado (MSE): ', sum((y_teste-diabetes_y_pred.reshape(-1,1))**2)/len(y_teste))"
      ],
      "execution_count": null,
      "outputs": [
        {
          "output_type": "stream",
          "name": "stdout",
          "text": [
            "Erro Médio Absoluto (MAE):  [1213.26319528]\n",
            "Erro Médio Quadrado (MSE):  [4850.82445883]\n"
          ]
        }
      ]
    },
    {
      "cell_type": "markdown",
      "metadata": {
        "id": "R6YfsDYQOYbz"
      },
      "source": [
        "### 3° modelo - Combinando as 2 variáveis (BMI e S4)"
      ]
    },
    {
      "cell_type": "code",
      "metadata": {
        "colab": {
          "base_uri": "https://localhost:8080/"
        },
        "id": "3x-9R7zROhbu",
        "outputId": "929534c4-1bcb-40b5-acaa-333a14245cbe"
      },
      "source": [
        "#Para criar o modelo irei usar todos os dados, exceto os últimos 20 registros, da coluna bmi (Índice de Massa Corporal)\n",
        "X = tabela[['bmi','s4']]\n",
        "X_treinamento = X[:-20]\n",
        "#Para validar o modelo, usei os 20 últimos registros\n",
        "X_teste = X[-20:]\n",
        "\n",
        "y = tabela['y']\n",
        "#mesma coisa aqui, porém, para o target (coluna y)\n",
        "y_treinamento = y[:-20]\n",
        "y_teste = y[-20:].array.to_numpy().reshape(-1,1)\n",
        "\n",
        "#cria o modelo de regressão linear\n",
        "regr = linear_model.LinearRegression()\n",
        "\n",
        "# treina o modelo com os dados treinamento\n",
        "regr.fit(X_treinamento, y_treinamento)\n",
        "\n",
        "#coeficientes b1\n",
        "print('Coeficiente b1: \\n', regr.coef_)\n",
        "#intercepto b0\n",
        "print('Coeficiente b0: \\n', regr.intercept_)"
      ],
      "execution_count": null,
      "outputs": [
        {
          "output_type": "stream",
          "name": "stdout",
          "text": [
            "Coeficiente b1: \n",
            " [781.12159381 374.43269761]\n",
            "Coeficiente b0: \n",
            " 152.9566566760398\n"
          ]
        }
      ]
    },
    {
      "cell_type": "code",
      "metadata": {
        "colab": {
          "base_uri": "https://localhost:8080/",
          "height": 111
        },
        "id": "pg1qO_q0Ohbv",
        "outputId": "294d3de4-980a-4748-c6ca-edcb5bf533b2"
      },
      "source": [
        "# Predição/validação\n",
        "diabetes_y_pred = regr.predict(X_teste)\n",
        "\n",
        "# Exibe os coeficientes de cada variável\n",
        "tabela_coef = pd.DataFrame()\n",
        "tabela_coef['Variáveis'] = X_teste.columns\n",
        "tabela_coef['Coef'] = regr.coef_\n",
        "tabela_coef"
      ],
      "execution_count": null,
      "outputs": [
        {
          "output_type": "execute_result",
          "data": {
            "text/html": [
              "<div>\n",
              "<style scoped>\n",
              "    .dataframe tbody tr th:only-of-type {\n",
              "        vertical-align: middle;\n",
              "    }\n",
              "\n",
              "    .dataframe tbody tr th {\n",
              "        vertical-align: top;\n",
              "    }\n",
              "\n",
              "    .dataframe thead th {\n",
              "        text-align: right;\n",
              "    }\n",
              "</style>\n",
              "<table border=\"1\" class=\"dataframe\">\n",
              "  <thead>\n",
              "    <tr style=\"text-align: right;\">\n",
              "      <th></th>\n",
              "      <th>Variáveis</th>\n",
              "      <th>Coef</th>\n",
              "    </tr>\n",
              "  </thead>\n",
              "  <tbody>\n",
              "    <tr>\n",
              "      <th>0</th>\n",
              "      <td>bmi</td>\n",
              "      <td>781.121594</td>\n",
              "    </tr>\n",
              "    <tr>\n",
              "      <th>1</th>\n",
              "      <td>s4</td>\n",
              "      <td>374.432698</td>\n",
              "    </tr>\n",
              "  </tbody>\n",
              "</table>\n",
              "</div>"
            ],
            "text/plain": [
              "  Variáveis        Coef\n",
              "0       bmi  781.121594\n",
              "1        s4  374.432698"
            ]
          },
          "metadata": {},
          "execution_count": 47
        }
      ]
    },
    {
      "cell_type": "code",
      "metadata": {
        "colab": {
          "base_uri": "https://localhost:8080/",
          "height": 193
        },
        "id": "K_0HNe7dPmya",
        "outputId": "6f7c10cb-d83c-4f3c-c00f-6fce9315b52d"
      },
      "source": [
        "y = 781.12*0.061 + 374.43*(-0.002)\n",
        "print('Valor Predito 0: ',y)\n",
        "\n",
        "y = 781.12*(-0.05)  + 374.43*(-0.039)\n",
        "print('Valor Predito 1: ',y)\n",
        "\n",
        "y = 781.12*(0.044)  + 374.43*(-0.002)\n",
        "print('Valor Predito 2: ',y)\n",
        "\n",
        "tabela[['bmi','s4','y']].head(3)"
      ],
      "execution_count": null,
      "outputs": [
        {
          "output_type": "stream",
          "name": "stdout",
          "text": [
            "Valor Predito 0:  46.89946\n",
            "Valor Predito 1:  -53.658770000000004\n",
            "Valor Predito 2:  33.620419999999996\n"
          ]
        },
        {
          "output_type": "execute_result",
          "data": {
            "text/html": [
              "<div>\n",
              "<style scoped>\n",
              "    .dataframe tbody tr th:only-of-type {\n",
              "        vertical-align: middle;\n",
              "    }\n",
              "\n",
              "    .dataframe tbody tr th {\n",
              "        vertical-align: top;\n",
              "    }\n",
              "\n",
              "    .dataframe thead th {\n",
              "        text-align: right;\n",
              "    }\n",
              "</style>\n",
              "<table border=\"1\" class=\"dataframe\">\n",
              "  <thead>\n",
              "    <tr style=\"text-align: right;\">\n",
              "      <th></th>\n",
              "      <th>bmi</th>\n",
              "      <th>s4</th>\n",
              "      <th>y</th>\n",
              "    </tr>\n",
              "  </thead>\n",
              "  <tbody>\n",
              "    <tr>\n",
              "      <th>0</th>\n",
              "      <td>0.061696</td>\n",
              "      <td>-0.002592</td>\n",
              "      <td>151.0</td>\n",
              "    </tr>\n",
              "    <tr>\n",
              "      <th>1</th>\n",
              "      <td>-0.051474</td>\n",
              "      <td>-0.039493</td>\n",
              "      <td>75.0</td>\n",
              "    </tr>\n",
              "    <tr>\n",
              "      <th>2</th>\n",
              "      <td>0.044451</td>\n",
              "      <td>-0.002592</td>\n",
              "      <td>141.0</td>\n",
              "    </tr>\n",
              "  </tbody>\n",
              "</table>\n",
              "</div>"
            ],
            "text/plain": [
              "        bmi        s4      y\n",
              "0  0.061696 -0.002592  151.0\n",
              "1 -0.051474 -0.039493   75.0\n",
              "2  0.044451 -0.002592  141.0"
            ]
          },
          "metadata": {},
          "execution_count": 48
        }
      ]
    },
    {
      "cell_type": "code",
      "metadata": {
        "colab": {
          "base_uri": "https://localhost:8080/"
        },
        "id": "iiVNmtdKOhbv",
        "outputId": "2472c77d-c522-4ec0-b8db-de745c766a30"
      },
      "source": [
        "print('Erro Médio Absoluto (MAE): ', sum(abs(y_teste-diabetes_y_pred.reshape(-1,1))))\n",
        "\n",
        "## O MSE torna menos tolerante a outliers, penalizando mais os outliers\n",
        "print('Erro Médio Quadrado (MSE): ', sum((y_teste-diabetes_y_pred.reshape(-1,1))**2)/len(y_teste))"
      ],
      "execution_count": null,
      "outputs": [
        {
          "output_type": "stream",
          "name": "stdout",
          "text": [
            "Erro Médio Absoluto (MAE):  [870.72822251]\n",
            "Erro Médio Quadrado (MSE):  [2520.6592083]\n"
          ]
        }
      ]
    },
    {
      "cell_type": "code",
      "metadata": {
        "id": "oS3jcrsLQlSj"
      },
      "source": [
        ""
      ],
      "execution_count": null,
      "outputs": []
    }
  ]
}